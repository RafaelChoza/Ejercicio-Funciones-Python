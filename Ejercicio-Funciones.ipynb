{
 "cells": [
  {
   "cell_type": "code",
   "execution_count": 58,
   "id": "b932d7d2",
   "metadata": {},
   "outputs": [
    {
     "name": "stdout",
     "output_type": "stream",
     "text": [
      "El precio total a pagar por shampoo es: 2 piezas por 20 pesos es = 40 pesos\n",
      "El precio total a pagar por detergente es: 1 piezas por 15 pesos es = 15 pesos\n",
      "El precio total a pagar por perfume es: 3 piezas por 50 pesos es = 150 pesos\n",
      "El precio total a pagar por jabón es: 1 piezas por 10 pesos es = 10 pesos\n",
      "El precio total a pagar por todos los productos es: 215 pesos\n"
     ]
    }
   ],
   "source": [
    "def total_a_pagar(precio, cantidad):\n",
    "    def calcula_total(precio, cantidad):\n",
    "        return precio * cantidad\n",
    "    \n",
    "    return calcula_total(precio, cantidad)\n",
    "\n",
    "my_cart = [\n",
    "    {\"producto\": \"shampoo\", \"precio\": 20, \"cantidad\": 2},\n",
    "    {\"producto\": \"detergente\", \"precio\": 15, \"cantidad\": 1},\n",
    "    {\"producto\": \"perfume\", \"precio\": 50, \"cantidad\": 3},\n",
    "    {\"producto\": \"jabón\", \"precio\": 10, \"cantidad\": 1}\n",
    "]\n",
    "\n",
    "total_general = 0\n",
    "\n",
    "for item in my_cart:\n",
    "    total = total_a_pagar(item['precio'], item['cantidad'])\n",
    "    print(f\"El precio total a pagar por {item['producto']} es: {item['cantidad']} piezas por {item['precio']} pesos es = {total} pesos\")\n",
    "    total_general += total\n",
    "\n",
    "print(\"El precio total a pagar por todos los productos es:\", total_general, \"pesos\")\n"
   ]
  },
  {
   "cell_type": "code",
   "execution_count": null,
   "id": "966a1579",
   "metadata": {},
   "outputs": [],
   "source": []
  }
 ],
 "metadata": {
  "kernelspec": {
   "display_name": "Python 3 (ipykernel)",
   "language": "python",
   "name": "python3"
  },
  "language_info": {
   "codemirror_mode": {
    "name": "ipython",
    "version": 3
   },
   "file_extension": ".py",
   "mimetype": "text/x-python",
   "name": "python",
   "nbconvert_exporter": "python",
   "pygments_lexer": "ipython3",
   "version": "3.11.7"
  }
 },
 "nbformat": 4,
 "nbformat_minor": 5
}
